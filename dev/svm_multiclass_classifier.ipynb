{
 "cells": [
  {
   "cell_type": "markdown",
   "id": "4625be6d",
   "metadata": {},
   "source": [
    "# SVM\n"
   ]
  },
  {
   "cell_type": "code",
   "execution_count": 1,
   "id": "2258fe5a",
   "metadata": {},
   "outputs": [],
   "source": [
    "import sys, os, re, gzip, json, pickle, shutil, random, joblib, math\n",
    "\n",
    "import numpy as np\n",
    "import matplotlib.pyplot as plt\n",
    "\n",
    "import librosa\n",
    "import librosa.display\n",
    "\n",
    "from sklearn.model_selection import train_test_split\n",
    "from sklearn import svm, datasets\n",
    "import sklearn.model_selection as model_selection\n",
    "from sklearn.metrics import accuracy_score\n",
    "from sklearn.metrics import f1_score\n",
    "%matplotlib inline\n",
    "%config IPCompleter.greedy=True\n",
    "%config Completer.use_jedi = False"
   ]
  },
  {
   "cell_type": "code",
   "execution_count": 2,
   "id": "e6e2b101",
   "metadata": {},
   "outputs": [],
   "source": [
    "# paths\n",
    "metadata_path = 'C:/Users/tianyi/Northeastern University/Machine Learning Final Project - Music Classification - Documents/myspace_mp3s/metadata.json.gz'\n",
    "genre_map_path = 'C:/Users/tianyi/Northeastern University/Machine Learning Final Project - Music Classification - Documents/myspace_mp3s/genre_map.pkl'\n",
    "mfcc_path = 'C:/Users/tianyi/Northeastern University/Machine Learning Final Project - Music Classification - Documents/audio_features/mfcc'\n"
   ]
  },
  {
   "cell_type": "code",
   "execution_count": 15,
   "id": "0f7d25f2",
   "metadata": {},
   "outputs": [
    {
     "data": {
      "text/plain": [
       "{'metal': 0, 'classical': 1}"
      ]
     },
     "execution_count": 15,
     "metadata": {},
     "output_type": "execute_result"
    }
   ],
   "source": [
    "# choose two binary genres to use for binary classifier\n",
    "binary_genres = ['metal', 'classical']\n",
    "lab_idx = {g:i for i,g in enumerate(binary_genres)}\n",
    "lab_idx"
   ]
  },
  {
   "cell_type": "code",
   "execution_count": 16,
   "id": "27a94dfd",
   "metadata": {},
   "outputs": [
    {
     "name": "stdout",
     "output_type": "stream",
     "text": [
      "rock 13158\n",
      "metal 8782\n",
      "alternative 8778\n",
      "rap 5906\n",
      "dance 5624\n",
      "pop 4684\n",
      "jazz 4552\n",
      "hip_hop 4526\n",
      "experimental 3686\n",
      "other 3544\n",
      "world 2225\n",
      "electronic 2127\n",
      "folk 1804\n",
      "punk 1729\n",
      "blues 1472\n",
      "ambient 1299\n",
      "reggae 1114\n",
      "goth 722\n",
      "acoustic 678\n",
      "country 533\n",
      "house 512\n",
      "classical 486\n",
      "spiritual 369\n",
      "oldies 248\n",
      "progressive 221\n",
      "funk 142\n",
      "easy_listening 131\n",
      "spoken_word 130\n",
      "bluegrass 48\n",
      "industrial 44\n",
      "showtunes 38\n",
      "disco 23\n"
     ]
    }
   ],
   "source": [
    "# genre counts (# samples per genre)\n",
    "genre_cts = {}\n",
    "for genre in os.listdir(mfcc_path):\n",
    "    genre_path = '%s/%s' % (mfcc_path, genre)\n",
    "    if genre == 'desktop.ini':\n",
    "        continue\n",
    "    genre_cts[genre] = len(os.listdir(genre_path))\n",
    "    \n",
    "# number samples for genre that has min samples in binary list (out of metal and classical)\n",
    "min_recs = min([genre_cts[g] for g in binary_genres])    \n",
    "\n",
    "# print counts for each genre\n",
    "for g in sorted(genre_cts, key=genre_cts.get, reverse=True):\n",
    "    print(g, genre_cts[g])"
   ]
  },
  {
   "cell_type": "code",
   "execution_count": 17,
   "id": "a9f20ee6",
   "metadata": {},
   "outputs": [
    {
     "name": "stdout",
     "output_type": "stream",
     "text": [
      "['acoustic', 'alternative', 'ambient', 'bluegrass', 'blues', 'classical', 'country', 'dance', 'disco', 'easy_listening', 'electronic', 'experimental', 'folk', 'funk', 'goth', 'hip_hop', 'house', 'industrial', 'jazz', 'metal', 'oldies', 'other', 'pop', 'progressive', 'punk', 'rap', 'reggae', 'rock', 'showtunes', 'spiritual', 'spoken_word', 'world']\n"
     ]
    }
   ],
   "source": [
    "# get list of all 32 final genres\n",
    "genres = list(genre_cts.keys())\n",
    "print(genres)"
   ]
  },
  {
   "cell_type": "code",
   "execution_count": 18,
   "id": "8042dc19",
   "metadata": {},
   "outputs": [
    {
     "data": {
      "text/plain": [
       "('46/std_1f69563352d19cb0132334cd0d3adeaf.mp3',\n",
       " {'song_name': 'big_yellow_moon',\n",
       "  'artist_name': 'bill_nelson',\n",
       "  'mp3_zipname': '46',\n",
       "  'mp3_filename': 'std_1f69563352d19cb0132334cd0d3adeaf.mp3',\n",
       "  'genres': ['rock', 'electronica', 'alternative']})"
      ]
     },
     "execution_count": 18,
     "metadata": {},
     "output_type": "execute_result"
    }
   ],
   "source": [
    "# loading in the metadata and genre map\n",
    "# metadata not used in this model; has original genres before mapping\n",
    "with gzip.open(metadata_path, 'rt', encoding='utf-8') as fz:\n",
    "    metadata = json.load(fz)\n",
    "\n",
    "with open(genre_map_path, 'rb') as f:\n",
    "    genre_map = pickle.load(f)\n",
    "    \n",
    "#example metadata\n",
    "kys = list(metadata.keys())\n",
    "ky=kys[0]\n",
    "ky, metadata[ky]"
   ]
  },
  {
   "cell_type": "code",
   "execution_count": 19,
   "id": "1472351a",
   "metadata": {},
   "outputs": [],
   "source": [
    "def get_mfcc_lengths(mfcc_path, genres, max_recs):\n",
    "    '''\n",
    "        Gets the lengths of each mfcc file (one per song) across \n",
    "        each genre that we are working with. \n",
    "        \n",
    "        mfcc_path: path to mfcc files (currently on OneDrive)\n",
    "        genres: list of genres we are working with (coudl be binary or multi)\n",
    "        max_recs: the genre that has the least number of samples\n",
    "    '''\n",
    "    \n",
    "    widths=[] # holds the lens of each np array (for each song) --> columns\n",
    "    heights = [] # rows\n",
    "    \n",
    "    for genre in genres:\n",
    "        genre_path = '%s/%s' % (mfcc_path, genre) # get path to all song mfccs in current genre\n",
    "        ct = 0\n",
    "        file_errors = 0\n",
    "        for fn in os.listdir(genre_path): # for each song mfcc (only do as many songs as min genre so classes are even)\n",
    "            fp = '%s/%s' % (genre_path, fn) # path to mfcc\n",
    "            try:\n",
    "                mfcc = np.load(fp) # load the np file\n",
    "                widths.append(mfcc.shape[1]) # get the number of columns in the np array\n",
    "                heights.append(mfcc.shape[0]) # get heights of the np array\n",
    "                ct+=1\n",
    "            except:\n",
    "                file_errors += 1\n",
    "            if ct>=max_recs:\n",
    "                break\n",
    "            \n",
    "    # files that aren't loaded by onedrive won't read in (should be 0)\n",
    "    print('Missed files: ', file_errors)\n",
    "    l = np.array(widths)\n",
    "    h = np.array(heights)\n",
    "    \n",
    "    return l, h"
   ]
  },
  {
   "cell_type": "code",
   "execution_count": 20,
   "id": "34c350fc",
   "metadata": {},
   "outputs": [
    {
     "name": "stdout",
     "output_type": "stream",
     "text": [
      "Missed files:  0\n",
      "Mean mfcc widths: 9853.0833, std: 4784.7813\n",
      "Mean mfcc height: 20.0000, std: 0.0000\n",
      "\n",
      "\n",
      "\n",
      "Width Histogram for Metal and Classical Genres\n"
     ]
    },
    {
     "data": {
      "image/png": "[encoded data removed]",
      "text/plain": [
       "<Figure size 432x288 with 1 Axes>"
      ]
     },
     "metadata": {
      "needs_background": "light"
     },
     "output_type": "display_data"
    }
   ],
   "source": [
    "l, h = get_mfcc_lengths(mfcc_path, binary_genres, min_recs)\n",
    "\n",
    "print('Mean mfcc widths: %.4f, std: %.4f' % (l.mean(), l.std())) #11098.8838, std: 4614.7522\n",
    "print('Mean mfcc height: %.4f, std: %.4f' % (h.mean(), h.std())) #11098.8838, std: 4614.7522\n",
    "print('\\n\\n')\n",
    "print('Width Histogram for Metal and Classical Genres')\n",
    "plt.hist(l, bins=100, density=True)\n",
    "plt.show()"
   ]
  },
  {
   "cell_type": "code",
   "execution_count": 21,
   "id": "5d92b804",
   "metadata": {},
   "outputs": [],
   "source": [
    "def shuffle_data(x, y):\n",
    "    '''\n",
    "    Shuffles x and y data. \n",
    "    '''\n",
    "    idx = np.arange(x.shape[0])\n",
    "    np.random.shuffle(idx)\n",
    "    x = x[idx]\n",
    "    y = y[idx]\n",
    "    \n",
    "    return x, y\n",
    "\n",
    "\n",
    "def normalize_data(x):\n",
    "    '''\n",
    "    Normalizes x data. \n",
    "    '''\n",
    "    return (x-x.mean())/x.std()\n",
    "\n",
    "\n",
    "def get_mfccs(mfcc_path, genres, lab_idx, max_recs):\n",
    "    '''\n",
    "    Open and process mfcc and return as x and y arrays.\n",
    "    '''\n",
    "    \n",
    "    # save all x and y values\n",
    "    mfccs = []\n",
    "    y=[]\n",
    "    i = 0\n",
    "    \n",
    "    # loop over each genre we are working with\n",
    "    for genre in genres:\n",
    "        \n",
    "        # extract path to all song mfccs in current genre\n",
    "        genre_path = '%s/%s' % (mfcc_path, genre)\n",
    "        ct = 0\n",
    "        \n",
    "        # loop over each mfcc in current genre\n",
    "        for fn in os.listdir(genre_path): \n",
    "            \n",
    "            i += 1\n",
    "            # get path to mfcc\n",
    "            fp = '%s/%s' % (genre_path, fn)\n",
    "            \n",
    "            # load mfcc and transpose/take mean\n",
    "            mfcc = np.load(fp) \n",
    "            mfcc = np.mean(mfcc.T,axis=0)\n",
    "            mfccs.append(mfcc)\n",
    "            \n",
    "            # append target label to list\n",
    "            y.append(lab_idx[genre])\n",
    "            \n",
    "            # for creating balanced dataset\n",
    "            ct+=1\n",
    "            if ct>=max_recs: \n",
    "                break\n",
    "           \n",
    "    # normalize data and create arrays\n",
    "    x = np.array(mfccs)\n",
    "    x = normalize_data(x)\n",
    "    y = np.array(y)\n",
    "    \n",
    "    return shuffle_data(x, y)"
   ]
  },
  {
   "cell_type": "code",
   "execution_count": 22,
   "id": "1514a59b",
   "metadata": {},
   "outputs": [],
   "source": [
    "# 972 samples, 20 features per sample for Metal and Classical\n",
    "x, y = get_mfccs(mfcc_path, binary_genres, lab_idx, min_recs)\n",
    "x.shape, y.shape\n",
    "x_train, x_test, y_train, y_test = train_test_split(x, y, test_size=0.2, random_state=42)"
   ]
  },
  {
   "cell_type": "code",
   "execution_count": 23,
   "id": "10bafa14",
   "metadata": {},
   "outputs": [
    {
     "name": "stdout",
     "output_type": "stream",
     "text": [
      "training:  (777, 20) (777,)\n",
      "testing:  (195, 20) (195,)\n"
     ]
    }
   ],
   "source": [
    "print('training: ', x_train.shape, y_train.shape)\n",
    "print('testing: ', x_test.shape, y_test.shape)"
   ]
  },
  {
   "cell_type": "code",
   "execution_count": 24,
   "id": "f5d10977",
   "metadata": {},
   "outputs": [],
   "source": [
    "rbf = svm.SVC(kernel='rbf', gamma=0.5, C=0.1).fit(x_train, y_train)\n",
    "poly = svm.SVC(kernel='poly', degree=3, C=1).fit(x_train, y_train)\n",
    "poly_pred = poly.predict(x_test)\n",
    "rbf_pred = rbf.predict(x_test)\n"
   ]
  },
  {
   "cell_type": "code",
   "execution_count": 25,
   "id": "3909adee",
   "metadata": {},
   "outputs": [
    {
     "name": "stdout",
     "output_type": "stream",
     "text": [
      "Accuracy (RBF Kernel):  91.28\n",
      "F1 (RBF Kernel):  91.25\n"
     ]
    }
   ],
   "source": [
    "rbf_accuracy = accuracy_score(y_test, rbf_pred)\n",
    "rbf_f1 = f1_score(y_test, rbf_pred, average='weighted')\n",
    "print('Accuracy (RBF Kernel): ', \"%.2f\" % (rbf_accuracy*100))\n",
    "print('F1 (RBF Kernel): ', \"%.2f\" % (rbf_f1*100))"
   ]
  },
  {
   "cell_type": "code",
   "execution_count": 26,
   "id": "f0e02d13",
   "metadata": {},
   "outputs": [
    {
     "name": "stdout",
     "output_type": "stream",
     "text": [
      "Accuracy (Polynomial Kernel):  87.69\n",
      "F1 (Polynomial Kernel):  87.53\n"
     ]
    }
   ],
   "source": [
    "poly_accuracy = accuracy_score(y_test, poly_pred)\n",
    "poly_f1 = f1_score(y_test, poly_pred, average='weighted')\n",
    "print('Accuracy (Polynomial Kernel): ', \"%.2f\" % (poly_accuracy*100))\n",
    "print('F1 (Polynomial Kernel): ', \"%.2f\" % (poly_f1*100))"
   ]
  },
  {
   "cell_type": "markdown",
   "id": "7ff3a191",
   "metadata": {},
   "source": [
    "# Multi-class"
   ]
  },
  {
   "cell_type": "code",
   "execution_count": null,
   "id": "244308c7",
   "metadata": {},
   "outputs": [],
   "source": []
  }
 ],
 "metadata": {
  "kernelspec": {
   "display_name": "Python 3 (ipykernel)",
   "language": "python",
   "name": "python3"
  },
  "language_info": {
   "codemirror_mode": {
    "name": "ipython",
    "version": 3
   },
   "file_extension": ".py",
   "mimetype": "text/x-python",
   "name": "python",
   "nbconvert_exporter": "python",
   "pygments_lexer": "ipython3",
   "version": "3.9.7"
  }
 },
 "nbformat": 4,
 "nbformat_minor": 5
}
